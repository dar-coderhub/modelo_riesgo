{
 "cells": [
  {
   "cell_type": "markdown",
   "id": "7d71ee4a-565d-41ab-beed-45faa80b11a8",
   "metadata": {
    "tags": []
   },
   "source": [
    "Test 3: Intento cargar el modelo directo de mandar el best model a un tar e importandolo acá. Ahora, el tar trae toda la estructura de .experiments del mlflow del WS2... porque la ruta de las carpetas es parte del uri y debe estar embevido en los archivos que vienen en best model. \n",
    "\n",
    "Aunque aun reclama que hay librerias desactializadas.. logra cargar y ejecutar predicciones."
   ]
  },
  {
   "cell_type": "code",
   "execution_count": 14,
   "id": "02365f66-34c7-482d-ace7-ca390bb928c0",
   "metadata": {
    "jupyter": {
     "source_hidden": true
    },
    "tags": []
   },
   "outputs": [],
   "source": [
    "#pip install -r requisitos.txt --no-deps"
   ]
  },
  {
   "cell_type": "markdown",
   "id": "a45a79b3-a185-4253-a745-2572edd735c9",
   "metadata": {},
   "source": [
    "### Primer paso para el QA es descomprimir la carpeta experiments que viene con las corridas y artefactos desde DEV"
   ]
  },
  {
   "cell_type": "markdown",
   "id": "327d9711-66c3-4a7c-bb8f-a97c110dd0ce",
   "metadata": {},
   "source": [
    "Configurar el run_id del best model (o de cualquier modelo que deseemos probar).\n",
    "Si no viene configurada de antes. Debemos configurarla a mano, copiandola desde el nombre del archivo de datos \"QA_Best_model_{run_id}.csv\".. \n",
    "\n",
    "EJ: QA_Best_model_exra-s71h-uoz4-lnkb.csv"
   ]
  },
  {
   "cell_type": "code",
   "execution_count": 55,
   "id": "711f5ce0-d2f1-45fc-9636-1647914294e7",
   "metadata": {},
   "outputs": [],
   "source": [
    "run_id_mlflow = \"exra-s71h-uoz4-lnkb\"\n",
    "\n",
    "#Usualmente debería ser en home: workspace_home = \"/home/cdsw/\"\n",
    "workspace_home = \"/home/cdsw/test_mlflow/\"\n",
    "\n",
    "archivo_experiments = \"experiments_\"+str(run_id_mlflow)+\".tar\""
   ]
  },
  {
   "cell_type": "markdown",
   "id": "49264ccd-c351-47b0-821f-32c4f72c1814",
   "metadata": {},
   "source": [
    "Luego de esto debemos descomprimir experiments_{run_id}.tar en el home del WS4-QA"
   ]
  },
  {
   "cell_type": "code",
   "execution_count": 58,
   "id": "f0c11e95-ad92-48b9-bf88-b2bd684c7775",
   "metadata": {},
   "outputs": [
    {
     "name": "stdout",
     "output_type": "stream",
     "text": [
      ".experiments/\n",
      ".experiments/swka-66bx-zw25-rt4n/\n",
      ".experiments/swka-66bx-zw25-rt4n/smcm-xw99-bplz-53a6/\n",
      ".experiments/swka-66bx-zw25-rt4n/smcm-xw99-bplz-53a6/artifacts/\n",
      ".experiments/swka-66bx-zw25-rt4n/smcm-xw99-bplz-53a6/artifacts/estimator.html\n",
      ".experiments/swka-66bx-zw25-rt4n/smcm-xw99-bplz-53a6/artifacts/model/\n",
      ".experiments/swka-66bx-zw25-rt4n/smcm-xw99-bplz-53a6/artifacts/model/python_env.yaml\n",
      ".experiments/swka-66bx-zw25-rt4n/smcm-xw99-bplz-53a6/artifacts/model/requirements.txt\n",
      ".experiments/swka-66bx-zw25-rt4n/smcm-xw99-bplz-53a6/artifacts/model/conda.yaml\n",
      ".experiments/swka-66bx-zw25-rt4n/smcm-xw99-bplz-53a6/artifacts/model/MLmodel\n",
      ".experiments/swka-66bx-zw25-rt4n/smcm-xw99-bplz-53a6/artifacts/model/model.pkl\n",
      ".experiments/swka-66bx-zw25-rt4n/uakf-c0sw-szf4-tea3/\n",
      ".experiments/swka-66bx-zw25-rt4n/uakf-c0sw-szf4-tea3/artifacts/\n",
      ".experiments/swka-66bx-zw25-rt4n/uakf-c0sw-szf4-tea3/artifacts/estimator.html\n",
      ".experiments/swka-66bx-zw25-rt4n/uakf-c0sw-szf4-tea3/artifacts/model/\n",
      ".experiments/swka-66bx-zw25-rt4n/uakf-c0sw-szf4-tea3/artifacts/model/python_env.yaml\n",
      ".experiments/swka-66bx-zw25-rt4n/uakf-c0sw-szf4-tea3/artifacts/model/requirements.txt\n",
      ".experiments/swka-66bx-zw25-rt4n/uakf-c0sw-szf4-tea3/artifacts/model/conda.yaml\n",
      ".experiments/swka-66bx-zw25-rt4n/uakf-c0sw-szf4-tea3/artifacts/model/MLmodel\n",
      ".experiments/swka-66bx-zw25-rt4n/uakf-c0sw-szf4-tea3/artifacts/model/model.pkl\n",
      ".experiments/swka-66bx-zw25-rt4n/2kxk-8sx8-zngr-opf2/\n",
      ".experiments/swka-66bx-zw25-rt4n/2kxk-8sx8-zngr-opf2/artifacts/\n",
      ".experiments/swka-66bx-zw25-rt4n/2kxk-8sx8-zngr-opf2/artifacts/estimator.html\n",
      ".experiments/swka-66bx-zw25-rt4n/2kxk-8sx8-zngr-opf2/artifacts/model/\n",
      ".experiments/swka-66bx-zw25-rt4n/2kxk-8sx8-zngr-opf2/artifacts/model/python_env.yaml\n",
      ".experiments/swka-66bx-zw25-rt4n/2kxk-8sx8-zngr-opf2/artifacts/model/requirements.txt\n",
      ".experiments/swka-66bx-zw25-rt4n/2kxk-8sx8-zngr-opf2/artifacts/model/conda.yaml\n",
      ".experiments/swka-66bx-zw25-rt4n/2kxk-8sx8-zngr-opf2/artifacts/model/MLmodel\n",
      ".experiments/swka-66bx-zw25-rt4n/2kxk-8sx8-zngr-opf2/artifacts/model/model.pkl\n",
      ".experiments/swka-66bx-zw25-rt4n/ycyp-n10y-8kng-7kif/\n",
      ".experiments/swka-66bx-zw25-rt4n/ycyp-n10y-8kng-7kif/artifacts/\n",
      ".experiments/swka-66bx-zw25-rt4n/ycyp-n10y-8kng-7kif/artifacts/estimator.html\n",
      ".experiments/swka-66bx-zw25-rt4n/ycyp-n10y-8kng-7kif/artifacts/model/\n",
      ".experiments/swka-66bx-zw25-rt4n/ycyp-n10y-8kng-7kif/artifacts/model/python_env.yaml\n",
      ".experiments/swka-66bx-zw25-rt4n/ycyp-n10y-8kng-7kif/artifacts/model/requirements.txt\n",
      ".experiments/swka-66bx-zw25-rt4n/ycyp-n10y-8kng-7kif/artifacts/model/conda.yaml\n",
      ".experiments/swka-66bx-zw25-rt4n/ycyp-n10y-8kng-7kif/artifacts/model/MLmodel\n",
      ".experiments/swka-66bx-zw25-rt4n/ycyp-n10y-8kng-7kif/artifacts/model/model.pkl\n",
      ".experiments/swka-66bx-zw25-rt4n/ycyp-n10y-8kng-7kif/artifacts/training_precision_recall_curve.png\n",
      ".experiments/swka-66bx-zw25-rt4n/ycyp-n10y-8kng-7kif/artifacts/training_roc_curve.png\n",
      ".experiments/swka-66bx-zw25-rt4n/ycyp-n10y-8kng-7kif/artifacts/training_confusion_matrix.png\n",
      ".experiments/swka-66bx-zw25-rt4n/ycyp-n10y-8kng-7kif/artifacts/metric_info.json\n",
      ".experiments/swka-66bx-zw25-rt4n/iw7k-c1em-4zz0-0w1b/\n",
      ".experiments/swka-66bx-zw25-rt4n/iw7k-c1em-4zz0-0w1b/artifacts/\n",
      ".experiments/swka-66bx-zw25-rt4n/iw7k-c1em-4zz0-0w1b/artifacts/estimator.html\n",
      ".experiments/swka-66bx-zw25-rt4n/iw7k-c1em-4zz0-0w1b/artifacts/model/\n",
      ".experiments/swka-66bx-zw25-rt4n/iw7k-c1em-4zz0-0w1b/artifacts/model/python_env.yaml\n",
      ".experiments/swka-66bx-zw25-rt4n/iw7k-c1em-4zz0-0w1b/artifacts/model/requirements.txt\n",
      ".experiments/swka-66bx-zw25-rt4n/iw7k-c1em-4zz0-0w1b/artifacts/model/conda.yaml\n",
      ".experiments/swka-66bx-zw25-rt4n/iw7k-c1em-4zz0-0w1b/artifacts/model/MLmodel\n",
      ".experiments/swka-66bx-zw25-rt4n/iw7k-c1em-4zz0-0w1b/artifacts/model/model.pkl\n",
      ".experiments/swka-66bx-zw25-rt4n/iw7k-c1em-4zz0-0w1b/artifacts/training_precision_recall_curve.png\n",
      ".experiments/swka-66bx-zw25-rt4n/iw7k-c1em-4zz0-0w1b/artifacts/training_roc_curve.png\n",
      ".experiments/swka-66bx-zw25-rt4n/iw7k-c1em-4zz0-0w1b/artifacts/training_confusion_matrix.png\n",
      ".experiments/swka-66bx-zw25-rt4n/iw7k-c1em-4zz0-0w1b/artifacts/metric_info.json\n",
      ".experiments/swka-66bx-zw25-rt4n/iw7k-c1em-4zz0-0w1b/artifacts/best_estimator/\n",
      ".experiments/swka-66bx-zw25-rt4n/iw7k-c1em-4zz0-0w1b/artifacts/best_estimator/python_env.yaml\n",
      ".experiments/swka-66bx-zw25-rt4n/iw7k-c1em-4zz0-0w1b/artifacts/best_estimator/requirements.txt\n",
      ".experiments/swka-66bx-zw25-rt4n/iw7k-c1em-4zz0-0w1b/artifacts/best_estimator/conda.yaml\n",
      ".experiments/swka-66bx-zw25-rt4n/iw7k-c1em-4zz0-0w1b/artifacts/best_estimator/MLmodel\n",
      ".experiments/swka-66bx-zw25-rt4n/iw7k-c1em-4zz0-0w1b/artifacts/best_estimator/model.pkl\n",
      ".experiments/swka-66bx-zw25-rt4n/iw7k-c1em-4zz0-0w1b/artifacts/cv_results.csv\n",
      ".experiments/swka-66bx-zw25-rt4n/iw7k-c1em-4zz0-0w1b/artifacts/Best_Model_Coderhub/\n",
      ".experiments/swka-66bx-zw25-rt4n/iw7k-c1em-4zz0-0w1b/artifacts/Best_Model_Coderhub/python_env.yaml\n",
      ".experiments/swka-66bx-zw25-rt4n/iw7k-c1em-4zz0-0w1b/artifacts/Best_Model_Coderhub/requirements.txt\n",
      ".experiments/swka-66bx-zw25-rt4n/iw7k-c1em-4zz0-0w1b/artifacts/Best_Model_Coderhub/conda.yaml\n",
      ".experiments/swka-66bx-zw25-rt4n/iw7k-c1em-4zz0-0w1b/artifacts/Best_Model_Coderhub/MLmodel\n",
      ".experiments/swka-66bx-zw25-rt4n/iw7k-c1em-4zz0-0w1b/artifacts/Best_Model_Coderhub/model.pkl\n",
      ".experiments/1ibi-u15p-h8j3-94yv/\n",
      ".experiments/1ibi-u15p-h8j3-94yv/exra-s71h-uoz4-lnkb/\n",
      ".experiments/1ibi-u15p-h8j3-94yv/exra-s71h-uoz4-lnkb/artifacts/\n",
      ".experiments/1ibi-u15p-h8j3-94yv/exra-s71h-uoz4-lnkb/artifacts/estimator.html\n",
      ".experiments/1ibi-u15p-h8j3-94yv/exra-s71h-uoz4-lnkb/artifacts/model/\n",
      ".experiments/1ibi-u15p-h8j3-94yv/exra-s71h-uoz4-lnkb/artifacts/model/python_env.yaml\n",
      ".experiments/1ibi-u15p-h8j3-94yv/exra-s71h-uoz4-lnkb/artifacts/model/requirements.txt\n",
      ".experiments/1ibi-u15p-h8j3-94yv/exra-s71h-uoz4-lnkb/artifacts/model/conda.yaml\n",
      ".experiments/1ibi-u15p-h8j3-94yv/exra-s71h-uoz4-lnkb/artifacts/model/MLmodel\n",
      ".experiments/1ibi-u15p-h8j3-94yv/exra-s71h-uoz4-lnkb/artifacts/model/model.pkl\n",
      ".experiments/1ibi-u15p-h8j3-94yv/exra-s71h-uoz4-lnkb/artifacts/training_precision_recall_curve.png\n",
      ".experiments/1ibi-u15p-h8j3-94yv/exra-s71h-uoz4-lnkb/artifacts/training_roc_curve.png\n",
      ".experiments/1ibi-u15p-h8j3-94yv/exra-s71h-uoz4-lnkb/artifacts/training_confusion_matrix.png\n",
      ".experiments/1ibi-u15p-h8j3-94yv/exra-s71h-uoz4-lnkb/artifacts/metric_info.json\n",
      ".experiments/1ibi-u15p-h8j3-94yv/exra-s71h-uoz4-lnkb/artifacts/best_estimator/\n",
      ".experiments/1ibi-u15p-h8j3-94yv/exra-s71h-uoz4-lnkb/artifacts/best_estimator/python_env.yaml\n",
      ".experiments/1ibi-u15p-h8j3-94yv/exra-s71h-uoz4-lnkb/artifacts/best_estimator/requirements.txt\n",
      ".experiments/1ibi-u15p-h8j3-94yv/exra-s71h-uoz4-lnkb/artifacts/best_estimator/conda.yaml\n",
      ".experiments/1ibi-u15p-h8j3-94yv/exra-s71h-uoz4-lnkb/artifacts/best_estimator/MLmodel\n",
      ".experiments/1ibi-u15p-h8j3-94yv/exra-s71h-uoz4-lnkb/artifacts/best_estimator/model.pkl\n",
      ".experiments/1ibi-u15p-h8j3-94yv/exra-s71h-uoz4-lnkb/artifacts/cv_results.csv\n",
      ".experiments/1ibi-u15p-h8j3-94yv/exra-s71h-uoz4-lnkb/artifacts/Best_Model_Coderhub/\n",
      ".experiments/1ibi-u15p-h8j3-94yv/exra-s71h-uoz4-lnkb/artifacts/Best_Model_Coderhub/python_env.yaml\n",
      ".experiments/1ibi-u15p-h8j3-94yv/exra-s71h-uoz4-lnkb/artifacts/Best_Model_Coderhub/requirements.txt\n",
      ".experiments/1ibi-u15p-h8j3-94yv/exra-s71h-uoz4-lnkb/artifacts/Best_Model_Coderhub/conda.yaml\n",
      ".experiments/1ibi-u15p-h8j3-94yv/exra-s71h-uoz4-lnkb/artifacts/Best_Model_Coderhub/MLmodel\n",
      ".experiments/1ibi-u15p-h8j3-94yv/exra-s71h-uoz4-lnkb/artifacts/Best_Model_Coderhub/model.pkl\n"
     ]
    }
   ],
   "source": [
    "!tar xvf {archivo_experiments} -C {workspace_home} "
   ]
  },
  {
   "cell_type": "code",
   "execution_count": null,
   "id": "2abfcc0f-c100-429a-854e-c727dce59216",
   "metadata": {},
   "outputs": [],
   "source": []
  },
  {
   "cell_type": "code",
   "execution_count": null,
   "id": "996f4249-8805-43b4-b5b3-665c22d301ee",
   "metadata": {},
   "outputs": [],
   "source": []
  },
  {
   "cell_type": "code",
   "execution_count": 36,
   "id": "6ad5a9b1-17dc-435c-9051-1b92d1b06c87",
   "metadata": {},
   "outputs": [],
   "source": [
    "import mlflow\n",
    "import pandas as pd\n",
    "\n",
    "## La ruta que aparece acá es dependiente del worksapace. Sin embargo, si se comprime la carpeta .experiments\n",
    "# ej: tar cvf /home/cdsw/.experiments/ experiments.tar\n",
    "# Luego se manda este comprimido al WS4-QA para que este codigo funcione.\n",
    "\n",
    "logged_model = '/home/cdsw/.experiments/1ibi-u15p-h8j3-94yv/'+str(run_id_mlflow)+'/artifacts/Best_Model_Coderhub'\n",
    "\n",
    "data = pd.read_csv(\"QA_data_applicacion_\"+str(run_id_mlflow)+\".csv\")\n",
    "\n",
    "# Load model as a PyFuncModel.\n",
    "loaded_model = mlflow.pyfunc.load_model(logged_model)\n"
   ]
  },
  {
   "cell_type": "code",
   "execution_count": 37,
   "id": "e5b4f228-f511-4c12-a691-d2e44b4fcd9b",
   "metadata": {
    "tags": []
   },
   "outputs": [
    {
     "data": {
      "text/plain": [
       "array([0, 0, 0, 0, 0])"
      ]
     },
     "execution_count": 37,
     "metadata": {},
     "output_type": "execute_result"
    }
   ],
   "source": [
    "loaded_model.predict(pd.DataFrame(data))"
   ]
  },
  {
   "cell_type": "code",
   "execution_count": null,
   "id": "e27251ca-4c96-4a4a-b2fe-d75d085a7076",
   "metadata": {},
   "outputs": [],
   "source": []
  },
  {
   "cell_type": "raw",
   "id": "cd5beb3f-c9ba-4b11-821b-ea740f81059a",
   "metadata": {},
   "source": []
  },
  {
   "cell_type": "code",
   "execution_count": null,
   "id": "a30d6fde-4700-4bb7-a332-2b3ef244a018",
   "metadata": {},
   "outputs": [],
   "source": []
  }
 ],
 "metadata": {
  "kernelspec": {
   "display_name": "Python 3 (ipykernel)",
   "language": "python",
   "name": "python3"
  },
  "language_info": {
   "codemirror_mode": {
    "name": "ipython",
    "version": 3
   },
   "file_extension": ".py",
   "mimetype": "text/x-python",
   "name": "python",
   "nbconvert_exporter": "python",
   "pygments_lexer": "ipython3",
   "version": "3.10.13"
  }
 },
 "nbformat": 4,
 "nbformat_minor": 5
}
