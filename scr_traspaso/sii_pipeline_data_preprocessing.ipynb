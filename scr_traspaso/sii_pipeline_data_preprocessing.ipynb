{
 "cells": [
  {
   "cell_type": "markdown",
   "id": "da607b5b",
   "metadata": {},
   "source": [
    "# DATA PREPROCESSING PIPELINE"
   ]
  },
  {
   "cell_type": "markdown",
   "id": "b203df13",
   "metadata": {},
   "source": [
    "## Import "
   ]
  },
  {
   "cell_type": "code",
   "execution_count": 6,
   "id": "abe3eed4",
   "metadata": {},
   "outputs": [],
   "source": [
    "# Importar módulos necesarios\n",
    "import pandas as pd\n",
    "import numpy as np\n",
    "import math\n",
    "from pathlib import Path\n",
    "import sii_utils\n",
    "sii_utils.suppress_warnings('pw')"
   ]
  },
  {
   "cell_type": "markdown",
   "id": "b3392aa1-2c24-421e-9d02-2964945dd9ac",
   "metadata": {},
   "source": [
    "## Cargar Configuraciones & dataset"
   ]
  },
  {
   "cell_type": "code",
   "execution_count": 7,
   "id": "336151d4-a6fe-454b-9973-8d9e39dd95a8",
   "metadata": {},
   "outputs": [
    {
     "data": {
      "text/plain": [
       "{'path': {'Home': '..\\\\\\\\',\n",
       "  'Bronze': 'data/Bronze/',\n",
       "  'Silver': 'data/Silver/',\n",
       "  'Gold': 'data/Gold/',\n",
       "  'Artefactos': 'artefactos/'},\n",
       " 'data_files': {'Bronze': 'GOVMS_BA_PRED_ANON.tab',\n",
       "  'Silver': 'Silver_data.csv',\n",
       "  'Gold': 'Gold_data.csv'},\n",
       " 'model_files': {'Log_metrics': 'Log_metrics.txt', 'Model_name': 'Model.pkl'}}"
      ]
     },
     "execution_count": 7,
     "metadata": {},
     "output_type": "execute_result"
    }
   ],
   "source": [
    "import yaml\n",
    "with open('..\\\\config_file.yml', 'r') as file:\n",
    "    cfg = yaml.safe_load(file)\n",
    "cfg"
   ]
  },
  {
   "cell_type": "code",
   "execution_count": 8,
   "id": "535fc54e",
   "metadata": {},
   "outputs": [
    {
     "name": "stdout",
     "output_type": "stream",
     "text": [
      "Ruta del archivo: ..\\data\\Bronze\\nuevoDF_CH.csv\n",
      "Leyendo archivo .yml : config_types.yml\n",
      "Conversion de data finalizada\n",
      "Dimensionalidad del DataFrame: (5000, 105)\n",
      "Primeras 4 filas del DataFrame:\n"
     ]
    },
    {
     "data": {
      "text/html": [
       "<div>\n",
       "<style scoped>\n",
       "    .dataframe tbody tr th:only-of-type {\n",
       "        vertical-align: middle;\n",
       "    }\n",
       "\n",
       "    .dataframe tbody tr th {\n",
       "        vertical-align: top;\n",
       "    }\n",
       "\n",
       "    .dataframe thead th {\n",
       "        text-align: right;\n",
       "    }\n",
       "</style>\n",
       "<table border=\"1\" class=\"dataframe\">\n",
       "  <thead>\n",
       "    <tr style=\"text-align: right;\">\n",
       "      <th></th>\n",
       "      <th>CONT_RUT</th>\n",
       "      <th>CONT_DV</th>\n",
       "      <th>campo_1</th>\n",
       "      <th>campo_2</th>\n",
       "      <th>campo_3</th>\n",
       "      <th>campo_4</th>\n",
       "      <th>campo_5</th>\n",
       "      <th>campo_6</th>\n",
       "      <th>campo_7</th>\n",
       "      <th>campo_8</th>\n",
       "      <th>...</th>\n",
       "      <th>campo_94</th>\n",
       "      <th>campo_95</th>\n",
       "      <th>campo_96</th>\n",
       "      <th>campo_97</th>\n",
       "      <th>campo_98</th>\n",
       "      <th>campo_99</th>\n",
       "      <th>campo_100</th>\n",
       "      <th>campo_101</th>\n",
       "      <th>campo_102</th>\n",
       "      <th>campo_103</th>\n",
       "    </tr>\n",
       "  </thead>\n",
       "  <tbody>\n",
       "    <tr>\n",
       "      <th>0</th>\n",
       "      <td>72</td>\n",
       "      <td>3</td>\n",
       "      <td>nan</td>\n",
       "      <td>nan</td>\n",
       "      <td>nan</td>\n",
       "      <td>1.0</td>\n",
       "      <td>14D1</td>\n",
       "      <td>nan</td>\n",
       "      <td>nan</td>\n",
       "      <td>nan</td>\n",
       "      <td>...</td>\n",
       "      <td>NaN</td>\n",
       "      <td>NaN</td>\n",
       "      <td>NaN</td>\n",
       "      <td>nan</td>\n",
       "      <td>NaN</td>\n",
       "      <td>NaN</td>\n",
       "      <td>NaN</td>\n",
       "      <td>NaN</td>\n",
       "      <td>NaN</td>\n",
       "      <td>nan</td>\n",
       "    </tr>\n",
       "    <tr>\n",
       "      <th>1</th>\n",
       "      <td>913</td>\n",
       "      <td>4</td>\n",
       "      <td>nan</td>\n",
       "      <td>nan</td>\n",
       "      <td>nan</td>\n",
       "      <td>1.0</td>\n",
       "      <td>14D1</td>\n",
       "      <td>nan</td>\n",
       "      <td>nan</td>\n",
       "      <td>nan</td>\n",
       "      <td>...</td>\n",
       "      <td>NaN</td>\n",
       "      <td>NaN</td>\n",
       "      <td>NaN</td>\n",
       "      <td>nan</td>\n",
       "      <td>NaN</td>\n",
       "      <td>NaN</td>\n",
       "      <td>NaN</td>\n",
       "      <td>NaN</td>\n",
       "      <td>NaN</td>\n",
       "      <td>nan</td>\n",
       "    </tr>\n",
       "    <tr>\n",
       "      <th>2</th>\n",
       "      <td>1059</td>\n",
       "      <td>7</td>\n",
       "      <td>nan</td>\n",
       "      <td>nan</td>\n",
       "      <td>nan</td>\n",
       "      <td>1.0</td>\n",
       "      <td>14D1</td>\n",
       "      <td>nan</td>\n",
       "      <td>nan</td>\n",
       "      <td>nan</td>\n",
       "      <td>...</td>\n",
       "      <td>NaN</td>\n",
       "      <td>NaN</td>\n",
       "      <td>NaN</td>\n",
       "      <td>nan</td>\n",
       "      <td>NaN</td>\n",
       "      <td>NaN</td>\n",
       "      <td>NaN</td>\n",
       "      <td>NaN</td>\n",
       "      <td>NaN</td>\n",
       "      <td>nan</td>\n",
       "    </tr>\n",
       "    <tr>\n",
       "      <th>3</th>\n",
       "      <td>1258</td>\n",
       "      <td>7</td>\n",
       "      <td>nan</td>\n",
       "      <td>nan</td>\n",
       "      <td>nan</td>\n",
       "      <td>1.0</td>\n",
       "      <td>14D1</td>\n",
       "      <td>nan</td>\n",
       "      <td>nan</td>\n",
       "      <td>nan</td>\n",
       "      <td>...</td>\n",
       "      <td>NaN</td>\n",
       "      <td>NaN</td>\n",
       "      <td>NaN</td>\n",
       "      <td>nan</td>\n",
       "      <td>NaN</td>\n",
       "      <td>NaN</td>\n",
       "      <td>NaN</td>\n",
       "      <td>NaN</td>\n",
       "      <td>NaN</td>\n",
       "      <td>nan</td>\n",
       "    </tr>\n",
       "  </tbody>\n",
       "</table>\n",
       "<p>4 rows × 105 columns</p>\n",
       "</div>"
      ],
      "text/plain": [
       "   CONT_RUT CONT_DV campo_1 campo_2 campo_3 campo_4 campo_5 campo_6 campo_7  \\\n",
       "0        72       3     nan     nan     nan     1.0    14D1     nan     nan   \n",
       "1       913       4     nan     nan     nan     1.0    14D1     nan     nan   \n",
       "2      1059       7     nan     nan     nan     1.0    14D1     nan     nan   \n",
       "3      1258       7     nan     nan     nan     1.0    14D1     nan     nan   \n",
       "\n",
       "  campo_8  ... campo_94 campo_95 campo_96 campo_97 campo_98 campo_99  \\\n",
       "0     nan  ...      NaN      NaN      NaN      nan      NaN      NaN   \n",
       "1     nan  ...      NaN      NaN      NaN      nan      NaN      NaN   \n",
       "2     nan  ...      NaN      NaN      NaN      nan      NaN      NaN   \n",
       "3     nan  ...      NaN      NaN      NaN      nan      NaN      NaN   \n",
       "\n",
       "  campo_100 campo_101 campo_102 campo_103  \n",
       "0       NaN       NaN       NaN       nan  \n",
       "1       NaN       NaN       NaN       nan  \n",
       "2       NaN       NaN       NaN       nan  \n",
       "3       NaN       NaN       NaN       nan  \n",
       "\n",
       "[4 rows x 105 columns]"
      ]
     },
     "metadata": {},
     "output_type": "display_data"
    }
   ],
   "source": [
    "### Carga el conjunto de datos desde un archivo CSV y realiza algunas operaciones de preprocesamiento.\n",
    "# Construir la ruta al archivo CSV utilizando la biblioteca pathlib\n",
    "#path_datasilver = Path(cfg['path']['Home'], cfg['path']['Bronze'], 'GOVMS_BA_PRED_ANONv2.csv')\n",
    "path_datasilver = Path(cfg['path']['Home'], cfg['path']['Bronze'], 'nuevoDF_CH.csv')\n",
    "\n",
    "\n",
    "# Imprimir la ruta del archivo\n",
    "print(f'Ruta del archivo: {path_datasilver}')\n",
    "\n",
    "# Cargar el DataFrame desde el archivo CSV utilizando pandas\n",
    "df = pd.read_csv(path_datasilver, sep=';')\n",
    "\n",
    "# Aplicar la función de conversión de tipos del módulo sii_utils\n",
    "df = sii_utils._convert_types(df)\n",
    "\n",
    "# Imprimir la forma del DataFrame\n",
    "print(f'Dimensionalidad del DataFrame: {df.shape}')\n",
    "\n",
    "# Mostrar las primeras 4 filas del DataFrame\n",
    "print('Primeras 4 filas del DataFrame:')\n",
    "display(df.head(4))\n"
   ]
  },
  {
   "cell_type": "code",
   "execution_count": 9,
   "id": "0a8d789c-bf50-4d1c-857c-a0a339eba03f",
   "metadata": {},
   "outputs": [
    {
     "data": {
      "text/plain": [
       "(304, 105)"
      ]
     },
     "execution_count": 9,
     "metadata": {},
     "output_type": "execute_result"
    }
   ],
   "source": [
    "### REVISAR SI ES NECESARIO //\n",
    "mask_18470=(df[\"campo_1\"]!=\"nan\")\n",
    "df_1847=df.loc[mask_18470]\n",
    "df_1847.shape"
   ]
  },
  {
   "cell_type": "markdown",
   "id": "e94ebaf4-cc65-4089-b9a7-53f5783db132",
   "metadata": {},
   "source": [
    "## Aplicacion de filtros\n",
    "\n",
    "Se aplica los diferentes filtrosÑ\n",
    "\n"
   ]
  },
  {
   "cell_type": "code",
   "execution_count": 10,
   "id": "9c68881c",
   "metadata": {},
   "outputs": [
    {
     "data": {
      "text/plain": [
       "campo_50\n",
       "nan    4171\n",
       "0.0     790\n",
       "1.0      39\n",
       "Name: count, dtype: int64"
      ]
     },
     "execution_count": 10,
     "metadata": {},
     "output_type": "execute_result"
    }
   ],
   "source": [
    "# Calcular la frecuencia de valores en el campo_50\n",
    "conteo_campo_50 = df['campo_50'].value_counts()\n",
    "conteo_campo_50"
   ]
  },
  {
   "cell_type": "code",
   "execution_count": 11,
   "id": "1a3b867f",
   "metadata": {},
   "outputs": [
    {
     "name": "stdout",
     "output_type": "stream",
     "text": [
      "Máscara para campo_50 != \"1.0\", Shape: 4961\n",
      "Máscara para campo_52 != \"1.0\", Shape: 4998\n",
      "Máscara para campo_48 != \"INACTIVOS\", Shape: 4177\n",
      "Dimensionalidad del DataFrame: (4136, 105)\n"
     ]
    }
   ],
   "source": [
    "## Filtra el DataFrame para excluir las filas donde el campo_50 es igual a \"1.0\", el campo_52 es igual a \"1.0\" y el campo_48 es igual a \"INACTIVOS\".\n",
    "\n",
    "# Crear máscara para excluir filas donde campo_50 es igual a \"1.0\"\n",
    "mask_tg = (df[\"campo_50\"] != \"1.0\")\n",
    "print(f'Máscara para campo_50 != \"1.0\", Shape: {mask_tg.sum()}')\n",
    "\n",
    "# Crear máscara para excluir filas donde campo_52 es igual a \"1.0\"\n",
    "mask_agresivo = (df[\"campo_52\"] != \"1.0\")\n",
    "print(f'Máscara para campo_52 != \"1.0\", Shape: {mask_agresivo.sum()}')\n",
    "\n",
    "# Crear máscara para excluir filas donde campo_48 es igual a \"INACTIVOS\"\n",
    "mask_seg_cat = (df[\"campo_48\"] != \"INACTIVOS\")\n",
    "print(f'Máscara para campo_48 != \"INACTIVOS\", Shape: {mask_seg_cat.sum()}')\n",
    "\n",
    "# Aplicar las máscaras para filtrar el DataFrame\n",
    "df = df.loc[mask_tg & mask_agresivo & mask_seg_cat]\n",
    "\n",
    "# Imprimir la forma del DataFrame\n",
    "print(f'Dimensionalidad del DataFrame: {df.shape}')"
   ]
  },
  {
   "cell_type": "markdown",
   "id": "2175bd4d-4cd9-49b3-b404-f4b26a2a2ae5",
   "metadata": {},
   "source": [
    "## Seleccion de columnas\n",
    "\n",
    "Utilizando el plan de acciones, seleccionamos las columnas que se van a utilizar para modelar el fenomeno"
   ]
  },
  {
   "cell_type": "code",
   "execution_count": 12,
   "id": "5804887a",
   "metadata": {},
   "outputs": [
    {
     "name": "stdout",
     "output_type": "stream",
     "text": [
      "Archivo leido correctamente\n",
      "Variables a utilizar 59\n",
      "Variables a utilizar posterior verificacion 59\n"
     ]
    }
   ],
   "source": [
    "# Construir la ruta al archivo del plan revisado\n",
    "path_plan = Path(cfg['path']['Home'], 'data/seleccion_inicial.txt')\n",
    "# Intentar leer el plan revisado desde el archivo txt\n",
    "seleccionadas = []\n",
    "try:\n",
    "    with open(path_plan, 'r') as file:\n",
    "        for line in file:\n",
    "            seleccionadas.append(line.replace('\\n', '').strip())\n",
    "    print(f'Archivo leido correctamente')\n",
    "    print(f'Variables a utilizar {len(seleccionadas)}')\n",
    "except FileNotFoundError:\n",
    "    # Capturar específicamente la excepción FileNotFoundError\n",
    "    print(f'No se encontró el archivo en la ruta {path_plan}')\n",
    "    print(f'Se usarán todas las variables del dataframe')\n",
    "    seleccionadas = list(df.columns)\n",
    "    print(f'Variables a utilizar {len(seleccionadas)}')\n",
    "except Exception as e:\n",
    "    # Capturar cualquier otra excepción\n",
    "    raise Exception(f'Error inesperado: {str(e)}') from None\n",
    "\n",
    "## verificar que las variables leidas se encuentren en el dataset\n",
    "seleccionadas = list(set(seleccionadas)&set(list(df.columns)))\n",
    "print(f'Variables a utilizar posterior verificacion {len(seleccionadas)}')"
   ]
  },
  {
   "cell_type": "code",
   "execution_count": 13,
   "id": "a5619655",
   "metadata": {},
   "outputs": [],
   "source": [
    "### seleccionar variables a utilizar\n",
    "df = df.loc[:,['CONT_RUT', 'CONT_DV']+seleccionadas ]"
   ]
  },
  {
   "cell_type": "markdown",
   "id": "254a3e94-de47-4a27-a99a-ac9db38f8894",
   "metadata": {},
   "source": [
    "## Aplicacion de plan de nulos\n",
    "\n",
    "Se aplica la imputaciones de los valores nulos dependiendo de cada variable y el plan de accion"
   ]
  },
  {
   "cell_type": "code",
   "execution_count": 14,
   "id": "ed8fb343",
   "metadata": {},
   "outputs": [
    {
     "name": "stdout",
     "output_type": "stream",
     "text": [
      "Aplicando estrategia de imputacion de datos por columna\n",
      "Aplicando estrategia general de imputacion de datos\n",
      "(4126, 61)\n"
     ]
    }
   ],
   "source": [
    "# Construir la ruta al archivo del plan revisado\n",
    "path_null_treatment_config= Path(cfg['path']['Home'], 'data/null_treatment_config.yml')\n",
    "\n",
    "# Cargar la configuración desde el archivo YAML\n",
    "with open(path_null_treatment_config, 'r') as file:\n",
    "    null_treatment_config = yaml.safe_load(file)\n",
    "\n",
    "# Aplicar la estrategia de manejo de nulos\n",
    "df = sii_utils.apply_null_handling_strategy(df, null_treatment_config, verbose = 0)\n",
    "print(df.shape)"
   ]
  },
  {
   "cell_type": "markdown",
   "id": "b2394781",
   "metadata": {},
   "source": [
    "## Ingenieria de Caracteristicas"
   ]
  },
  {
   "cell_type": "code",
   "execution_count": 15,
   "id": "175accef",
   "metadata": {},
   "outputs": [
    {
     "data": {
      "text/plain": [
       "<seaborn.axisgrid.FacetGrid at 0x2b865e22760>"
      ]
     },
     "execution_count": 15,
     "metadata": {},
     "output_type": "execute_result"
    },
    {
     "data": {
      "image/png": "[encoded data removed]",
      "text/plain": [
       "<Figure size 500x500 with 1 Axes>"
      ]
     },
     "metadata": {},
     "output_type": "display_data"
    }
   ],
   "source": [
    "#df.groupby(['campo_60']).size()\n",
    "import seaborn as sns\n",
    "sns.displot(df['campo_60'])"
   ]
  },
  {
   "cell_type": "code",
   "execution_count": 16,
   "id": "cf7c9f87-cf25-4a9a-8611-b9e31dd7101a",
   "metadata": {},
   "outputs": [],
   "source": [
    "# CREAMOS ESTAS NUEVAS VARIABLES MENCIONADAS\n",
    "\n",
    "# Esta variable campo_104 es una combinacion entre las variables campo_60 y ANTIGUEDAD_DESDE_CONSTITUCION\n",
    "# Campo 60 sin valores nulos\n",
    "# df['campo_104'] = np.where(df['campo_60'].isna() == True,\n",
    "#                                         df['campo_57'],\n",
    "#                                         df['campo_60'])\n",
    "\n",
    "\n",
    "df['campo_104'] = df['campo_60'].copy()\n",
    "df.loc[df['campo_104'].isna(), 'campo_104'] = df.loc[df['campo_104'].isna(), 'campo_57']\n",
    "df.loc[df['campo_104'].isna(), 'campo_104'] = -1"
   ]
  },
  {
   "cell_type": "markdown",
   "id": "6a4255d3-5feb-46dd-8f70-6128f49def3c",
   "metadata": {},
   "source": [
    "## Categorizacion de variable continua\n",
    "\n",
    "\n",
    "\n",
    "\n",
    "\n",
    "1: nulo\n",
    "\n",
    "2: [0-2)\n",
    "\n",
    "3: [2-5)\n",
    "\n",
    "4: [5-10)\n",
    "\n",
    "5: [10-29)\n",
    "\n",
    "6: [29+)\n",
    "\n",
    "\n"
   ]
  },
  {
   "cell_type": "code",
   "execution_count": 17,
   "id": "f6edd071-cf11-4be1-85bf-379cdad19425",
   "metadata": {},
   "outputs": [
    {
     "data": {
      "text/plain": [
       "campo_60_cat\n",
       "5    1296\n",
       "4     899\n",
       "3     866\n",
       "2     735\n",
       "6     330\n",
       "Name: count, dtype: int64"
      ]
     },
     "execution_count": 17,
     "metadata": {},
     "output_type": "execute_result"
    }
   ],
   "source": [
    "#df['campo_60_cat'] = np.where(df['campo_104']=='NULLS' , -1, df['campo_60'])\n",
    "df['campo_60_cat'] = df['campo_60'].copy()\n",
    "df.loc[df['campo_104']=='NULLS', 'campo_60_cat'] = -1\n",
    "\n",
    "\n",
    "values = [-math.inf, 0, 2, 5, 10, 29, math.inf]\n",
    "\n",
    "cat = [1,2,3,4,5,6]\n",
    "\"\"\"\n",
    "1: nulo\n",
    "2: [0-2)\n",
    "3: [2-5)\n",
    "4: [5-10)\n",
    "5: [10-29)\n",
    "6: [29+)\n",
    "\"\"\"\n",
    "#dataframe_dropcol['campo_60_cat'] = dataframe_dropcol['campo_60_cat'].astype('object')\n",
    "df['campo_60_cat'] = pd.cut(x=df['campo_60_cat'], bins=values, labels = cat, right=False)\n",
    "df['campo_60_cat'] = df['campo_60_cat'].astype('object')\n",
    "df['campo_60_cat'].value_counts()"
   ]
  },
  {
   "cell_type": "code",
   "execution_count": 18,
   "id": "197ce6e0-35aa-4aad-9b46-ae4180a54c92",
   "metadata": {},
   "outputs": [
    {
     "name": "stdout",
     "output_type": "stream",
     "text": [
      "CPU times: total: 0 ns\n",
      "Wall time: 0 ns\n"
     ]
    }
   ],
   "source": [
    "%time\n",
    "values_ind=[]\n",
    "for index,row in df.iterrows():\n",
    "    \n",
    "    f22_3at =row[\"campo_10\"]\n",
    "    f29_46pt=row[\"campo_11\"]\n",
    "    f50_36pt=row[\"campo_12\"]\n",
    "    \n",
    "    if f22_3at=='1.0' or f29_46pt=='1.0' or f50_36pt=='1.0':\n",
    "        \n",
    "        values_ind.append(1)\n",
    "        \n",
    "    else:\n",
    "        values_ind.append(0)"
   ]
  },
  {
   "cell_type": "code",
   "execution_count": 19,
   "id": "8bcef336-8e03-4b04-a0ef-f7a4948e4048",
   "metadata": {},
   "outputs": [],
   "source": [
    "values_ind = (df[['campo_10', 'campo_11', 'campo_12']]=='1.0').sum(axis = 1)\n",
    "df[\"Presenta_union\"] = (values_ind >= 1).astype(int).astype(str)"
   ]
  },
  {
   "cell_type": "code",
   "execution_count": 20,
   "id": "6f12d5ca",
   "metadata": {},
   "outputs": [],
   "source": [
    "#df.isna().sum().to_frame('N').sort_values('N')"
   ]
  },
  {
   "cell_type": "code",
   "execution_count": 21,
   "id": "165562ff",
   "metadata": {},
   "outputs": [
    {
     "data": {
      "text/plain": [
       "dtype('float64')"
      ]
     },
     "execution_count": 21,
     "metadata": {},
     "output_type": "execute_result"
    }
   ],
   "source": [
    "df['campo_100'].value_counts()\n",
    "df['campo_100'].dtypes"
   ]
  },
  {
   "cell_type": "markdown",
   "id": "eb8aa562",
   "metadata": {},
   "source": [
    "## Exportar dataset"
   ]
  },
  {
   "cell_type": "code",
   "execution_count": 22,
   "id": "138a38fd",
   "metadata": {},
   "outputs": [],
   "source": [
    "path_save_data=Path(cfg['path']['Home'],cfg['path']['Silver'])\n",
    "\n",
    "## EXPORTAR DATAFRAME\n",
    "name_file=f'Silver_DJ_preprocessed.csv'\n",
    "path_file=Path(path_save_data,name_file)\n",
    "df.to_csv(path_file,sep=';',index=False)\n",
    "\n",
    "## EXPORTAR DATAFRAME COLUMN TYPES\n",
    "df_dtypes = df.dtypes.to_frame('Tipo').reset_index().rename({'index':'Variable'}, axis = 1)\n",
    "name_file=f'Silver_DJ_preprocessed_var_types.csv'\n",
    "path_file=Path(path_save_data,name_file)\n",
    "df_dtypes.to_csv(path_file,sep=';',index=False)\n"
   ]
  }
 ],
 "metadata": {
  "kernelspec": {
   "display_name": "Python 3 (ipykernel)",
   "language": "python",
   "name": "python3"
  },
  "language_info": {
   "codemirror_mode": {
    "name": "ipython",
    "version": 3
   },
   "file_extension": ".py",
   "mimetype": "text/x-python",
   "name": "python",
   "nbconvert_exporter": "python",
   "pygments_lexer": "ipython3",
   "version": "3.10.13"
  }
 },
 "nbformat": 4,
 "nbformat_minor": 5
}
